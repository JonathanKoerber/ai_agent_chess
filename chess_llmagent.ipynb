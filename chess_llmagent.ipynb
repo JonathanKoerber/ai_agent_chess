{
 "cells": [
  {
   "cell_type": "code",
   "execution_count": 2,
   "metadata": {},
   "outputs": [],
   "source": [
    "from llama_index.core import(\n",
    "    SimpleDirectoryReader,\n",
    "    VectorStoreIndex,\n",
    "    StorageContext,\n",
    "    load_index_from_storage,\n",
    ")\n",
    "from llama_index.core.tools import QueryEngineTool, ToolMetadata\n",
    "from pymilvus import connections\n",
    "from llama_index.vector_stores.milvus import MilvusVectorStore"
   ]
  },
  {
   "cell_type": "code",
   "execution_count": 2,
   "metadata": {},
   "outputs": [],
   "source": [
    "import openai\n",
    "import os\n",
    "api_key = os.environ.get(\"OPENAI_API_KEY\")\n",
    "openai.api_key = api_key"
   ]
  },
  {
   "cell_type": "code",
   "execution_count": 8,
   "metadata": {},
   "outputs": [],
   "source": [
    "# process chess puzzels run once (takes 10 -15 min to run)\n",
    "chess_games_png = SimpleDirectoryReader(input_files=[\"./100K_lichess_db_puzzle.csv\"]).load_data()\n",
    "vector_store_games_png= MilvusVectorStore(dim=1536, collection_name=\"chess_puzzels\")\n",
    "storage_context_chess_puzzels = StorageContext.from_defaults(vector_store=vector_store_games_png)\n",
    "chess_puzzel_index = VectorStoreIndex.from_documents(chess_games_png, storage_context_chess_puzzels)\n",
    "chess_puzzel_index.storage_context.persist(persist_dir=\"./storage/chess_puzzels\")"
   ]
  },
  {
   "cell_type": "code",
   "execution_count": 3,
   "metadata": {},
   "outputs": [],
   "source": [
    "# elete game data in pgn format only need to run once takes 10-15 min\n",
    "chess_games_png = SimpleDirectoryReader(input_files=[\"./100K_lichess_elite_2020-06.md\"]).load_data()\n",
    "vector_store_games_png= MilvusVectorStore(dim=1536, collection_name=\"lichess_chess_games_png\")\n",
    "storage_context_chess_games_png = StorageContext.from_defaults(vector_store=vector_store_games_png)\n",
    "chess_games_png_index = VectorStoreIndex.from_documents(chess_games_png, storage_context_chess_games_png)\n",
    "chess_games_png_index.storage_context.persist(persist_dir=\"./storage/chess_games_png\")\n"
   ]
  },
  {
   "cell_type": "code",
   "execution_count": 17,
   "metadata": {},
   "outputs": [],
   "source": [
    "# stockfish best moves run once (takes 10-15 min)\n",
    "stockfish_chess_fen_best_moves = SimpleDirectoryReader(input_files=[\"./100k_stockfish_best_move.md\"]).load_data()\n",
    "vector_store_stockfish_best_moves= MilvusVectorStore(dim=1536, collection_name=\"stockfish_fen_best_moves\")\n",
    "storage_context_stockfish_chess_fen = StorageContext.from_defaults(vector_store=vector_store_stockfish_best_moves)\n",
    "chess_stockfish_fen_index = VectorStoreIndex.from_documents(stockfish_chess_fen_best_moves, storage_context_stockfish_chess_fen)\n",
    "chess_stockfish_fen_index.storage_context.persist(persist_dir=\"./storage/stocfish_fen_best_moves\")"
   ]
  },
  {
   "cell_type": "code",
   "execution_count": 18,
   "metadata": {},
   "outputs": [],
   "source": [
    "# try:\n",
    "#     storage_context = StorageContext.from_defaults(\n",
    "#         persist_dir=\"./storage/chess_games_png\"\n",
    "#     )\n",
    "#     chess_games_png_index = load_index_from_storage(storage_context)\n",
    "\n",
    "#     storage_context = StorageContext.from_defaults(\n",
    "#         persist_dir=\"./storage/chess_puzzels\"\n",
    "#     )\n",
    "#     chess_pussel_index = load_index_from_storage(storage_context)\n",
    "\n",
    "#     storage_context = StorageContext.from_defaults(\n",
    "#         persist_dir=\"./storage/chess_stockfish_fen_best_moves\"\n",
    "#     )\n",
    "#     chess_stockfish_fen_index = load_index_from_storage(storage_context)\n",
    "#     index_loaded = True\n",
    "# except:\n",
    "    # index_loaded = False\n",
    "index_loaded=False"
   ]
  },
  {
   "cell_type": "code",
   "execution_count": 19,
   "metadata": {},
   "outputs": [],
   "source": [
    "puzzel_engine = chess_puzzel_index.as_query_engine(similarity_top_k_=5)\n",
    "games_engine = chess_games_png_index.as_query_engine(similarity_top_k_=5)\n",
    "best_move_engine = chess_stockfish_fen_index.as_query_engine(similarity_top_k_=5)"
   ]
  },
  {
   "cell_type": "code",
   "execution_count": 20,
   "metadata": {},
   "outputs": [],
   "source": [
    "query_engine_tools = [\n",
    "    QueryEngineTool(\n",
    "        query_engine=puzzel_engine,\n",
    "        \n",
    "        metadata=ToolMetadata(\n",
    "            name=\"chess_puzzel_index\",\n",
    "            description=\"chess puzzel index\",\n",
    "        ),\n",
    "    ),\n",
    "    QueryEngineTool(\n",
    "        query_engine=games_engine,\n",
    "        metadata=ToolMetadata(\n",
    "            name=\"chess_games_png_index\",\n",
    "            description=\"chess games png index\",\n",
    "        ),\n",
    "    ),\n",
    "    QueryEngineTool(\n",
    "        query_engine=best_move_engine,\n",
    "        metadata=ToolMetadata(\n",
    "            name=\"chess_stockfish_fen_index\",\n",
    "            description=\"chess stockfish fen index\",\n",
    "        ),\n",
    "    ),\n",
    "\n",
    "]\n"
   ]
  },
  {
   "cell_type": "code",
   "execution_count": 23,
   "metadata": {},
   "outputs": [],
   "source": [
    "from llama_index.core.agent import ReActAgent\n",
    "from llama_index.llms.openai import OpenAI"
   ]
  },
  {
   "cell_type": "code",
   "execution_count": 24,
   "metadata": {},
   "outputs": [],
   "source": [
    "llm = OpenAI(model=\"gpt-3.5-turbo-0613\")\n",
    "\n",
    "agent = ReActAgent.from_tools(\n",
    "    query_engine_tools,\n",
    "    llm=llm,\n",
    "    verbose=True,\n",
    "    # context=context\n",
    ")"
   ]
  },
  {
   "cell_type": "code",
   "execution_count": 25,
   "metadata": {},
   "outputs": [
    {
     "name": "stdout",
     "output_type": "stream",
     "text": [
      "\u001b[1;3;38;5;200mThought: I can use the chess_puzzel_index tool to find the best move for white in the given position.\n",
      "Action: chess_puzzel_index\n",
      "Action Input: {'input': '1. e4 e5 2. Nf3 Nc6 3. Bb5 a6 4. Ba4 Nf6 5. O-O Be7 6. Re1 b5 7. Bb3 d6 8. c3 O-O 9. h3 Nb8 10. d4 Nbd7 11. Nbd2 Bb7 12. Bc2 Re8 13. Nf1 Bf8 14. Ng3 g6 15. Bg5 h6 16. Bd2 Bg7 17. a4 c5 18. d5 c4 19. Be3 Nc5 20. Qd2 h5 21. Bg5 Qc7 22. Ra3 Nfd7 23. Rea1 Nb6 24. a5 Nbd7 25. Rf1 Nf6 26. Raa1 Bc8 27. Nh4 Nh7 28. Be3 Qe7 29. Nf3 h4 30. Ne2 f5 31. Bxc5 dxc5 32. d6 Qf7 33. Nxh4 f4 34. Nf3 Be6 35. Rfd1 Rd7 36. Kf1 Rd7 37. Neg1 Rad8 38. Qe2 Rxd6 39. Rxd6'}\n",
      "\u001b[0m\u001b[1;3;34mObservation: R1bq1rk1/pp3pbp/2n1pnp1/2B5/4p3/2PP1N2/PP1NBPPP/R2QK2R w KQ - 0 11\n",
      "\u001b[0m\u001b[1;3;38;5;200mThought: The chess_puzzel_index tool did not provide a response. I will try using the chess_stockfish_fen_index tool to analyze the position and find the best move for white.\n",
      "Action: chess_stockfish_fen_index\n",
      "Action Input: {'input': 'R1bq1rk1/pp3pbp/2n1pnp1/2B5/4p3/2PP1N2/PP1NBPPP/R2QK2R w KQ - 0 11'}\n",
      "\u001b[0m\u001b[1;3;34mObservation: The position provided in the query does not match any of the positions listed in the context information.\n",
      "\u001b[0m\u001b[1;3;38;5;200mThought: I cannot answer the question with the provided tools.\n",
      "Answer: Sorry, I cannot answer your query.\n",
      "\u001b[0mSorry, I cannot answer your query.\n"
     ]
    }
   ],
   "source": [
    "response = agent.chat(\"What is the best move for white in the following position? 1. e4 e5 2. Nf3 Nc6 3. Bb5 a6 4. Ba4 Nf6 5. O-O Be7 6. Re1 b5 7. Bb3 d6 8. c3 O-O 9. h3 Nb8 10. d4 Nbd7 11. Nbd2 Bb7 12. Bc2 Re8 13. Nf1 Bf8 14. Ng3 g6 15. Bg5 h6 16. Bd2 Bg7 17. a4 c5 18. d5 c4 19. Be3 Nc5 20. Qd2 h5 21. Bg5 Qc7 22. Ra3 Nfd7 23. Rea1 Nb6 24. a5 Nbd7 25. Rf1 Nf6 26. Raa1 Bc8 27. Nh4 Nh7 28. Be3 Qe7 29. Nf3 h4 30. Ne2 f5 31. Bxc5 dxc5 32. d6 Qf7 33. Nxh4 f4 34. Nf3 Be6 35. Rfd1 Red8 36. Kf1 Rd7 37. Neg1 Rad8 38. Qe2 Rxd6 39. Rxd6\")\n",
    "print(response)"
   ]
  },
  {
   "cell_type": "code",
   "execution_count": 1,
   "metadata": {},
   "outputs": [
    {
     "ename": "NameError",
     "evalue": "name 'agent' is not defined",
     "output_type": "error",
     "traceback": [
      "\u001b[0;31m---------------------------------------------------------------------------\u001b[0m",
      "\u001b[0;31mNameError\u001b[0m                                 Traceback (most recent call last)",
      "Cell \u001b[0;32mIn[1], line 2\u001b[0m\n\u001b[1;32m      1\u001b[0m \u001b[38;5;66;03m# r3k2r/1pq1bp2/p1np1n1p/2p1pNp1/P3P3/1P1P2P1/2P2PBP/R1BQK2R w KQkq - 1 14 [MOVESEP] c1d2\u001b[39;00m\n\u001b[0;32m----> 2\u001b[0m response \u001b[38;5;241m=\u001b[39m \u001b[43magent\u001b[49m\u001b[38;5;241m.\u001b[39mchat(\u001b[38;5;124m\"\u001b[39m\u001b[38;5;124mBased on you this Fen string what move do you think in best? r3k2r/1pq1bp2/p1np1n1p/2p1pNp1/P3P3/1P1P2P1/2P2PBP/R1BQK2R w KQkq - 1 14\u001b[39m\u001b[38;5;124m\"\u001b[39m)\n\u001b[1;32m      3\u001b[0m \u001b[38;5;28mprint\u001b[39m(response)\n",
      "\u001b[0;31mNameError\u001b[0m: name 'agent' is not defined"
     ]
    }
   ],
   "source": [
    "# r3k2r/1pq1bp2/p1np1n1p/2p1pNp1/P3P3/1P1P2P1/2P2PBP/R1BQK2R w KQkq - 1 14 [MOVESEP] c1d2\n",
    "response = agent.chat(\"Based on you this Fen string what move do you think in best? r3k2r/1pq1bp2/p1np1n1p/2p1pNp1/P3P3/1P1P2P1/2P2PBP/R1BQK2R w KQkq - 1 14\")\n",
    "print(response)"
   ]
  }
 ],
 "metadata": {
  "kernelspec": {
   "display_name": "python-12-ai-agent-chess",
   "language": "python",
   "name": "python3"
  },
  "language_info": {
   "codemirror_mode": {
    "name": "ipython",
    "version": 3
   },
   "file_extension": ".py",
   "mimetype": "text/x-python",
   "name": "python",
   "nbconvert_exporter": "python",
   "pygments_lexer": "ipython3",
   "version": "3.12.2"
  }
 },
 "nbformat": 4,
 "nbformat_minor": 2
}
